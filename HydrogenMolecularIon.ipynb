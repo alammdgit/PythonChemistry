{
 "cells": [
  {
   "cell_type": "code",
   "execution_count": 76,
   "id": "1d290eaf",
   "metadata": {},
   "outputs": [],
   "source": [
    "import numpy as np\n",
    "import matplotlib.pyplot as plt\n",
    "from matplotlib import pyplot as plt"
   ]
  },
  {
   "cell_type": "code",
   "execution_count": 96,
   "id": "3ab296cc",
   "metadata": {},
   "outputs": [],
   "source": [
    "#making data for U vs R using the solution of Hydrogen Molecular Ion\n",
    "#The plot is to get the ground state and 1st e.s of Hydrogen molecular ion\n",
    "#Levine,Quantum Chemistry-Problem-13.9\n",
    "K=[]\n",
    "Dist=[]\n",
    "PE1=[]\n",
    "PE2=[]\n",
    "for R in range (1,100):\n",
    "        k=1\n",
    "        num=(k*k)-k-(1/R)+(1/R)*(1+k*R)*np.exp(-2*k*R)+k*(k-2)*(1+k*R)*np.exp(-k*R) \n",
    "        denom= 1+np.exp(-k*R)*(1+k*R+((k*k*R*R)/3))\n",
    "        W1=-(0.5*k*k)+(num/denom)\n",
    "#W1-solution of the secular determinant indicating low energy state\n",
    "        num2=(k*k)-k-(1/R)+(1/R)*(1+k*R)*np.exp(-2*k*R)-k*(k-2)*(1+k*R)*np.exp(-k*R)\n",
    "        denom2=1-np.exp(-k*R)*(1+k*R+((k*k*R*R)/3))\n",
    "        W2=-(0.5*k*k)+(num2/denom2)\n",
    "#W2-solution of the secular determinant indicating 1st exited state\n",
    "        Ug=(W1+(1/R))\n",
    "        Ue=(W2+(1/R))\n",
    "#Evaluating the ground and excited state potential Ug and Ue\n",
    "        K.append(k)\n",
    "        PE1.append(Ug)\n",
    "        PE2.append(Ue)\n",
    "        Dist.append(R)"
   ]
  },
  {
   "cell_type": "code",
   "execution_count": 99,
   "id": "c9c9a616",
   "metadata": {},
   "outputs": [
    {
     "data": {
      "text/plain": [
       "Text(0.5, 1.0, 'Ground State Energy')"
      ]
     },
     "execution_count": 99,
     "metadata": {},
     "output_type": "execute_result"
    },
    {
     "data": {
      "image/png": "[encoded data removed]",
      "text/plain": [
       "<Figure size 432x288 with 2 Axes>"
      ]
     },
     "metadata": {
      "needs_background": "light"
     },
     "output_type": "display_data"
    }
   ],
   "source": [
    "#plotting part\n",
    "fig,axs=plt.subplots(2)\n",
    "axs[0].plot(Dist,PE1)\n",
    "axs[1].plot(Dist,PE2)\n",
    "axs[0].set_title('Ground State Energy')"
   ]
  }
 ],
 "metadata": {
  "kernelspec": {
   "display_name": "Python 3 (ipykernel)",
   "language": "python",
   "name": "python3"
  },
  "language_info": {
   "codemirror_mode": {
    "name": "ipython",
    "version": 3
   },
   "file_extension": ".py",
   "mimetype": "text/x-python",
   "name": "python",
   "nbconvert_exporter": "python",
   "pygments_lexer": "ipython3",
   "version": "3.10.0"
  }
 },
 "nbformat": 4,
 "nbformat_minor": 5
}
