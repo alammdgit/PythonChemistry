{
 "cells": [
  {
   "cell_type": "code",
   "execution_count": 1,
   "id": "3e18741d",
   "metadata": {},
   "outputs": [],
   "source": [
    "import numpy as np\n",
    "import matplotlib.pyplot as plt\n",
    "from matplotlib import pyplot as plt"
   ]
  },
  {
   "cell_type": "code",
   "execution_count": 93,
   "id": "1fbef917",
   "metadata": {},
   "outputs": [],
   "source": [
    "#making data for U vs R using the solution of Hydrogen Molecular Ion\n",
    "#The plot is to get the ground state of Hydrogen molecular ion\n",
    "K=[]\n",
    "Dist=[]\n",
    "PE=[]\n",
    "for R in range (1,50):\n",
    "    for k in range (1,2):\n",
    "        num=(k*k)-k-(1/R)+(1/R)*(1+k*R)*np.exp(-2*k*R)+k*(k-2)*(1+k*R)*np.exp(-k*R)\n",
    "        denom= 1+np.exp(-k*R)*(1+k*R+((k*k*R*R)/3))\n",
    "        W1=-(0.5*k*k)+(num/denom)\n",
    "        U=(W1+(1/R))\n",
    "        K.append(k)\n",
    "        PE.append(U)\n",
    "        Dist.append(R)"
   ]
  },
  {
   "cell_type": "code",
   "execution_count": 92,
   "id": "7f3d0622",
   "metadata": {},
   "outputs": [
    {
     "data": {
      "image/png": "[encoded data removed]",
      "text/plain": [
       "<Figure size 432x288 with 1 Axes>"
      ]
     },
     "metadata": {
      "needs_background": "light"
     },
     "output_type": "display_data"
    }
   ],
   "source": [
    "#plotting part\n",
    "plt.plot(Dist,PE)\n",
    "plt.xlabel(\"R\")\n",
    "plt.ylabel(\"U\")\n",
    "plt.legend(\"Potential Energy\")\n",
    "plt.show()"
   ]
  },
  {
   "cell_type": "code",
   "execution_count": null,
   "id": "7e09960d",
   "metadata": {},
   "outputs": [],
   "source": []
  }
 ],
 "metadata": {
  "kernelspec": {
   "display_name": "Python 3 (ipykernel)",
   "language": "python",
   "name": "python3"
  },
  "language_info": {
   "codemirror_mode": {
    "name": "ipython",
    "version": 3
   },
   "file_extension": ".py",
   "mimetype": "text/x-python",
   "name": "python",
   "nbconvert_exporter": "python",
   "pygments_lexer": "ipython3",
   "version": "3.10.0"
  }
 },
 "nbformat": 4,
 "nbformat_minor": 5
}
