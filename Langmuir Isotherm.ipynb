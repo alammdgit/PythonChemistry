{
  "cells": [
    {
      "cell_type": "markdown",
      "metadata": {
        "id": "view-in-github",
        "colab_type": "text"
      },
      "source": [
        "<a href=\"https://colab.research.google.com/github/alammdgit/PythonChemistry/blob/main/Langmuir%20Isotherm.ipynb\" target=\"_parent\"><img src=\"https://colab.research.google.com/assets/colab-badge.svg\" alt=\"Open In Colab\"/></a>"
      ]
    },
    {
      "cell_type": "code",
      "execution_count": 10,
      "id": "14e7888b",
      "metadata": {
        "id": "14e7888b",
        "outputId": "fe2e6854-0964-46c0-ce1c-8b25ca397ace",
        "colab": {
          "base_uri": "https://localhost:8080/",
          "height": 298
        }
      },
      "outputs": [
        {
          "name": "stdout",
          "output_type": "stream",
          "text": [
            "Enter the pressure limit434\n"
          ]
        },
        {
          "output_type": "display_data",
          "data": {
            "image/png": "[encoded data removed]",
            "text/plain": [
              "<Figure size 432x288 with 1 Axes>"
            ]
          },
          "metadata": {
            "needs_background": "light"
          }
        }
      ],
      "source": [
        "#code for interpreting Langmuir Adsorption isotherm\n",
        "import numpy as np\n",
        "import matplotlib.pyplot as plt\n",
        "from matplotlib import pyplot as plt\n",
        "k=7.1\n",
        "pressure=[]\n",
        "theta=[]\n",
        "p=int(input('Enter the pressure limit'))\n",
        "#Generating Theta vs Pressure data\n",
        "for i in range (0,p):\n",
        "    pressure.append(p) #appending data in pressure list\n",
        "    t=(k*p)/(1+(k*p)) #Langmuir Adsorption\n",
        "    theta.append(t) #appending data to coverage(theta) list\n",
        "    p=p+7\n",
        "\n",
        "#plotting\n",
        "plt.title('Langmuir Adsorption Isotherm')\n",
        "plt.plot(pressure,theta,color='green',linestyle='-',linewidth=3) #Plotting the isotherm\n",
        "plt.show()"
      ]
    },
    {
      "cell_type": "code",
      "execution_count": null,
      "id": "d7fedddf",
      "metadata": {
        "id": "d7fedddf"
      },
      "outputs": [],
      "source": [
        ""
      ]
    }
  ],
  "metadata": {
    "kernelspec": {
      "display_name": "Python 3 (ipykernel)",
      "language": "python",
      "name": "python3"
    },
    "language_info": {
      "codemirror_mode": {
        "name": "ipython",
        "version": 3
      },
      "file_extension": ".py",
      "mimetype": "text/x-python",
      "name": "python",
      "nbconvert_exporter": "python",
      "pygments_lexer": "ipython3",
      "version": "3.10.0"
    },
    "colab": {
      "name": "Langmuir Isotherm.ipynb",
      "provenance": [],
      "include_colab_link": true
    }
  },
  "nbformat": 4,
  "nbformat_minor": 5
}